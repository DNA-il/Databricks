{
 "cells": [
  {
   "cell_type": "code",
   "execution_count": 0,
   "metadata": {
    "application/vnd.databricks.v1+cell": {
     "cellMetadata": {
      "byteLimit": 2048000,
      "rowLimit": 10000
     },
     "inputWidgets": {},
     "nuid": "ee1e4277-67a3-4e6b-ae47-31960b0cb7e2",
     "showTitle": false,
     "title": ""
    }
   },
   "outputs": [],
   "source": [
    "import pandas as pd"
   ]
  },
  {
   "cell_type": "markdown",
   "metadata": {
    "application/vnd.databricks.v1+cell": {
     "cellMetadata": {},
     "inputWidgets": {},
     "nuid": "f20933ce-272c-4605-914a-53a42063f933",
     "showTitle": false,
     "title": ""
    }
   },
   "source": [
    "# Get the data"
   ]
  },
  {
   "cell_type": "code",
   "execution_count": 0,
   "metadata": {
    "application/vnd.databricks.v1+cell": {
     "cellMetadata": {
      "byteLimit": 2048000,
      "rowLimit": 10000
     },
     "inputWidgets": {},
     "nuid": "8bc68cf0-0826-4fe1-8416-e972792a4bff",
     "showTitle": false,
     "title": ""
    }
   },
   "outputs": [],
   "source": [
    "file_location = \"/FileStore/tables/baby_names.csv\""
   ]
  },
  {
   "cell_type": "markdown",
   "metadata": {
    "application/vnd.databricks.v1+cell": {
     "cellMetadata": {},
     "inputWidgets": {},
     "nuid": "edb8960a-ab6e-4c96-9cdc-fe9fd31eae54",
     "showTitle": false,
     "title": ""
    }
   },
   "source": [
    "The standard `pd.read_csv()` works only locally, so it doesn't work on DBFS. Therefore we will read the data with `spark.read` (which we will explore in subsequent chapters) and transform it into pandas DataFrame using `toPandas()`."
   ]
  },
  {
   "cell_type": "code",
   "execution_count": 0,
   "metadata": {
    "application/vnd.databricks.v1+cell": {
     "cellMetadata": {
      "byteLimit": 2048000,
      "rowLimit": 10000
     },
     "inputWidgets": {},
     "nuid": "191e83f4-fd84-402e-8d9d-6bbfdd2820f2",
     "showTitle": false,
     "title": ""
    }
   },
   "outputs": [],
   "source": [
    "df = spark.read.format(\"csv\") \\\n",
    "  .option(\"inferSchema\", True) \\\n",
    "  .option(\"header\", True) \\\n",
    "  .option(\"sep\", ',') \\\n",
    "  .load(file_location)"
   ]
  },
  {
   "cell_type": "code",
   "execution_count": 0,
   "metadata": {
    "application/vnd.databricks.v1+cell": {
     "cellMetadata": {
      "byteLimit": 2048000,
      "rowLimit": 10000
     },
     "inputWidgets": {},
     "nuid": "50b47a76-3dac-42e4-9c22-4ef21638a529",
     "showTitle": false,
     "title": ""
    }
   },
   "outputs": [],
   "source": [
    "display(df)"
   ]
  },
  {
   "cell_type": "code",
   "execution_count": 0,
   "metadata": {
    "application/vnd.databricks.v1+cell": {
     "cellMetadata": {
      "byteLimit": 2048000,
      "rowLimit": 10000
     },
     "inputWidgets": {},
     "nuid": "74c67653-1530-48e2-820f-ab86c7f55717",
     "showTitle": false,
     "title": ""
    }
   },
   "outputs": [],
   "source": [
    "names = df.toPandas()\n",
    "names.head()"
   ]
  },
  {
   "cell_type": "markdown",
   "metadata": {
    "application/vnd.databricks.v1+cell": {
     "cellMetadata": {},
     "inputWidgets": {},
     "nuid": "4e2d3750-0aa2-43f9-b3d4-98792667ae58",
     "showTitle": false,
     "title": ""
    }
   },
   "source": [
    "# Preliminaries"
   ]
  },
  {
   "cell_type": "markdown",
   "metadata": {
    "application/vnd.databricks.v1+cell": {
     "cellMetadata": {},
     "inputWidgets": {},
     "nuid": "762b46b6-593b-461d-a85a-304d23b48917",
     "showTitle": false,
     "title": ""
    }
   },
   "source": [
    "Dropping the `soundex` column"
   ]
  },
  {
   "cell_type": "code",
   "execution_count": 0,
   "metadata": {
    "application/vnd.databricks.v1+cell": {
     "cellMetadata": {
      "byteLimit": 2048000,
      "rowLimit": 10000
     },
     "inputWidgets": {},
     "nuid": "44bbb6a5-93af-415f-9e64-869795fdf92b",
     "showTitle": false,
     "title": ""
    }
   },
   "outputs": [],
   "source": [
    "names.drop('soundex', axis=1, inplace=True)\n",
    "names.sample(5)"
   ]
  },
  {
   "cell_type": "markdown",
   "metadata": {
    "application/vnd.databricks.v1+cell": {
     "cellMetadata": {},
     "inputWidgets": {},
     "nuid": "7880ea0c-5914-4e72-8429-f8b8c269f680",
     "showTitle": false,
     "title": ""
    }
   },
   "source": [
    "Setting the `MultiIndex` to `year` and `name`"
   ]
  },
  {
   "cell_type": "code",
   "execution_count": 0,
   "metadata": {
    "application/vnd.databricks.v1+cell": {
     "cellMetadata": {
      "byteLimit": 2048000,
      "rowLimit": 10000
     },
     "inputWidgets": {},
     "nuid": "68e8019e-c4c4-4b12-947d-7017f93c8c09",
     "showTitle": false,
     "title": ""
    }
   },
   "outputs": [],
   "source": [
    "names.set_index(['year', 'name'], inplace=True)\n",
    "names.sample(5)"
   ]
  },
  {
   "cell_type": "markdown",
   "metadata": {
    "application/vnd.databricks.v1+cell": {
     "cellMetadata": {},
     "inputWidgets": {},
     "nuid": "3970bb8c-a0d6-43cd-a6f5-48e309afeb89",
     "showTitle": false,
     "title": ""
    }
   },
   "source": [
    "Splitting the data to `boys` and `girls` Series objects"
   ]
  },
  {
   "cell_type": "code",
   "execution_count": 0,
   "metadata": {
    "application/vnd.databricks.v1+cell": {
     "cellMetadata": {
      "byteLimit": 2048000,
      "rowLimit": 10000
     },
     "inputWidgets": {},
     "nuid": "7aa6e621-64de-4089-b92c-6597e7333a60",
     "showTitle": false,
     "title": ""
    }
   },
   "outputs": [],
   "source": [
    "boys = names.loc[names['sex']=='boy'].drop('sex', axis=1)\n",
    "boys.sample(5)"
   ]
  },
  {
   "cell_type": "code",
   "execution_count": 0,
   "metadata": {
    "application/vnd.databricks.v1+cell": {
     "cellMetadata": {
      "byteLimit": 2048000,
      "rowLimit": 10000
     },
     "inputWidgets": {},
     "nuid": "693964d9-71a9-4255-b8aa-553e9c5d9ec6",
     "showTitle": false,
     "title": ""
    }
   },
   "outputs": [],
   "source": [
    "girls = names.loc[names['sex']=='girl'].drop('sex', axis=1)\n",
    "girls.sample(5)"
   ]
  },
  {
   "cell_type": "markdown",
   "metadata": {
    "application/vnd.databricks.v1+cell": {
     "cellMetadata": {},
     "inputWidgets": {},
     "nuid": "fa43d0a7-4ad2-478c-99f1-dced1797cae8",
     "showTitle": false,
     "title": ""
    }
   },
   "source": [
    "# Basic EDA"
   ]
  },
  {
   "cell_type": "markdown",
   "metadata": {
    "application/vnd.databricks.v1+cell": {
     "cellMetadata": {},
     "inputWidgets": {},
     "nuid": "483d6322-69fd-4e57-b331-a0e9dbfc3476",
     "showTitle": false,
     "title": ""
    }
   },
   "source": [
    "What is the sum of all `prop`'s per year?"
   ]
  },
  {
   "cell_type": "code",
   "execution_count": 0,
   "metadata": {
    "application/vnd.databricks.v1+cell": {
     "cellMetadata": {
      "byteLimit": 2048000,
      "rowLimit": 10000
     },
     "inputWidgets": {},
     "nuid": "6e834d5c-af31-4f8e-8743-d126490b37b8",
     "showTitle": false,
     "title": ""
    }
   },
   "outputs": [],
   "source": [
    "boys.groupby(level='year').sum().plot(title='Boys names total proportion');\n",
    "girls.groupby(level='year').sum().plot(title='Girls names total proportion');"
   ]
  },
  {
   "cell_type": "markdown",
   "metadata": {
    "application/vnd.databricks.v1+cell": {
     "cellMetadata": {},
     "inputWidgets": {},
     "nuid": "b8aeb0df-5eb5-4ae8-b8ba-c4c93f322d0a",
     "showTitle": false,
     "title": ""
    }
   },
   "source": [
    "How does the trend of a specific name look through the years?"
   ]
  },
  {
   "cell_type": "code",
   "execution_count": 0,
   "metadata": {
    "application/vnd.databricks.v1+cell": {
     "cellMetadata": {
      "byteLimit": 2048000,
      "rowLimit": 10000
     },
     "inputWidgets": {},
     "nuid": "d3d625ef-b9b3-4c08-87d1-8d553b931ffd",
     "showTitle": false,
     "title": ""
    }
   },
   "outputs": [],
   "source": [
    "NAME = 'Elvis'\n",
    "boys.loc[(slice(None), NAME)].plot();"
   ]
  },
  {
   "cell_type": "code",
   "execution_count": 0,
   "metadata": {
    "application/vnd.databricks.v1+cell": {
     "cellMetadata": {
      "byteLimit": 2048000,
      "rowLimit": 10000
     },
     "inputWidgets": {},
     "nuid": "974702ca-a8b8-44e4-9e36-f4dd25286278",
     "showTitle": false,
     "title": ""
    }
   },
   "outputs": [],
   "source": [
    "NAME = 'Margaret'\n",
    "girls.loc[(slice(None), NAME)].plot();"
   ]
  },
  {
   "cell_type": "markdown",
   "metadata": {
    "application/vnd.databricks.v1+cell": {
     "cellMetadata": {},
     "inputWidgets": {},
     "nuid": "dc4fdd93-6271-44ad-bba4-3f39157799e7",
     "showTitle": false,
     "title": ""
    }
   },
   "source": [
    "How many names are used for both boys and girls throughout the years?"
   ]
  },
  {
   "cell_type": "code",
   "execution_count": 0,
   "metadata": {
    "application/vnd.databricks.v1+cell": {
     "cellMetadata": {
      "byteLimit": 2048000,
      "rowLimit": 10000
     },
     "inputWidgets": {},
     "nuid": "15fdae39-bded-40f0-97a9-2facac137ebd",
     "showTitle": false,
     "title": ""
    }
   },
   "outputs": [],
   "source": [
    "boys.join(girls, lsuffix='_boys', rsuffix='_girls', how='inner').index.get_level_values(1).nunique()"
   ]
  }
 ],
 "metadata": {
  "application/vnd.databricks.v1+notebook": {
   "dashboards": [],
   "language": "python",
   "notebookMetadata": {
    "pythonIndentUnit": 4
   },
   "notebookName": "02 - pandas fundamentals",
   "widgets": {}
  },
  "colab": {
   "collapsed_sections": [],
   "name": "PySpark Fundamentals.ipynb",
   "provenance": []
  },
  "kernelspec": {
   "display_name": "Python 3",
   "language": "python",
   "name": "python3"
  },
  "language_info": {
   "codemirror_mode": {
    "name": "ipython",
    "version": 3
   },
   "file_extension": ".py",
   "mimetype": "text/x-python",
   "name": "python",
   "nbconvert_exporter": "python",
   "pygments_lexer": "ipython3",
   "version": "3.6.5"
  },
  "name": "PySpark Fundamentals",
  "notebookId": 4289448050921006
 },
 "nbformat": 4,
 "nbformat_minor": 0
}
