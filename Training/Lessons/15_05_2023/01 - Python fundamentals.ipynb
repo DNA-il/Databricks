{
 "cells": [
  {
   "cell_type": "markdown",
   "metadata": {
    "application/vnd.databricks.v1+cell": {
     "cellMetadata": {},
     "inputWidgets": {},
     "nuid": "625399be-32db-4711-a7af-7123b5125c03",
     "showTitle": false,
     "title": ""
    },
    "colab_type": "text",
    "id": "WkAbGd4YVToq"
   },
   "source": [
    "# Simple variables"
   ]
  },
  {
   "cell_type": "code",
   "execution_count": 0,
   "metadata": {
    "application/vnd.databricks.v1+cell": {
     "cellMetadata": {
      "byteLimit": 2048000,
      "rowLimit": 10000
     },
     "inputWidgets": {},
     "nuid": "5e27ee75-d1b6-47bd-9fab-714664319d31",
     "showTitle": false,
     "title": ""
    },
    "colab": {
     "base_uri": "https://localhost:8080/",
     "height": 52
    },
    "colab_type": "code",
    "executionInfo": {
     "elapsed": 25686,
     "status": "ok",
     "timestamp": 1573472904346,
     "user": {
      "displayName": "Amit Rappel",
      "photoUrl": "https://lh3.googleusercontent.com/a-/AAuE7mCpe5u5WeIPUl8KIs0q9y-EzHhNpEOmf41uRn8SmQ=s64",
      "userId": "16505003500853190417"
     },
     "user_tz": -120
    },
    "id": "L9IoXojuVTor",
    "outputId": "87d760bf-603c-47ea-e148-16c3443100f2"
   },
   "outputs": [],
   "source": [
    "my_name = 'Amit'\n",
    "my_age = 40\n",
    "my_age_next_year = my_age+1\n",
    "print(f'My name is {my_name}, and I am {my_age} years old')\n",
    "print(f'Next year I will be {my_age_next_year} years old')"
   ]
  },
  {
   "cell_type": "markdown",
   "metadata": {
    "application/vnd.databricks.v1+cell": {
     "cellMetadata": {},
     "inputWidgets": {},
     "nuid": "e2875857-a790-4b6a-900c-50030daea290",
     "showTitle": false,
     "title": ""
    },
    "colab_type": "text",
    "id": "ilvIePiEVTow"
   },
   "source": [
    "# Lists"
   ]
  },
  {
   "cell_type": "code",
   "execution_count": 0,
   "metadata": {
    "application/vnd.databricks.v1+cell": {
     "cellMetadata": {
      "byteLimit": 2048000,
      "rowLimit": 10000
     },
     "inputWidgets": {},
     "nuid": "6fa5a332-c364-4529-9078-29d0202ab252",
     "showTitle": false,
     "title": ""
    },
    "colab": {
     "base_uri": "https://localhost:8080/",
     "height": 34
    },
    "colab_type": "code",
    "executionInfo": {
     "elapsed": 25168,
     "status": "ok",
     "timestamp": 1573472904347,
     "user": {
      "displayName": "Amit Rappel",
      "photoUrl": "https://lh3.googleusercontent.com/a-/AAuE7mCpe5u5WeIPUl8KIs0q9y-EzHhNpEOmf41uRn8SmQ=s64",
      "userId": "16505003500853190417"
     },
     "user_tz": -120
    },
    "id": "spyy_I87VTox",
    "outputId": "4513eb58-d370-4e68-d2d5-7f5573dc89b6"
   },
   "outputs": [],
   "source": [
    "planets = ['Mercury', 'Venus', 'Earth', 'Mars', 'Jupiter', 'Saturn', 'Uranus', 'Neptune', 'Pluto']\n",
    "planets.pop()\n",
    "planets.pop(2)\n",
    "print(planets)"
   ]
  },
  {
   "cell_type": "markdown",
   "metadata": {
    "application/vnd.databricks.v1+cell": {
     "cellMetadata": {},
     "inputWidgets": {},
     "nuid": "090d8362-a640-40c4-828a-9b0c92c36f32",
     "showTitle": false,
     "title": ""
    },
    "colab_type": "text",
    "id": "HtnfOC9VVTo4"
   },
   "source": [
    "#### split()"
   ]
  },
  {
   "cell_type": "code",
   "execution_count": 0,
   "metadata": {
    "application/vnd.databricks.v1+cell": {
     "cellMetadata": {
      "byteLimit": 2048000,
      "rowLimit": 10000
     },
     "inputWidgets": {},
     "nuid": "5434a83f-8ceb-46dc-8dc7-ce660f5790d2",
     "showTitle": false,
     "title": ""
    },
    "colab": {
     "base_uri": "https://localhost:8080/",
     "height": 34
    },
    "colab_type": "code",
    "executionInfo": {
     "elapsed": 24297,
     "status": "ok",
     "timestamp": 1573472904349,
     "user": {
      "displayName": "Amit Rappel",
      "photoUrl": "https://lh3.googleusercontent.com/a-/AAuE7mCpe5u5WeIPUl8KIs0q9y-EzHhNpEOmf41uRn8SmQ=s64",
      "userId": "16505003500853190417"
     },
     "user_tz": -120
    },
    "id": "io-FkFh7VTo5",
    "outputId": "ffd5059f-d8a5-44e3-f30f-f1db575529f0"
   },
   "outputs": [],
   "source": [
    "sentence = 'There is no place like home!'\n",
    "print(sentence.split())"
   ]
  },
  {
   "cell_type": "markdown",
   "metadata": {
    "application/vnd.databricks.v1+cell": {
     "cellMetadata": {},
     "inputWidgets": {},
     "nuid": "bc8f7947-dded-46b3-86fd-eebd079ba504",
     "showTitle": false,
     "title": ""
    },
    "colab_type": "text",
    "id": "RzrRd9grVTo7"
   },
   "source": [
    "# Iterable objects"
   ]
  },
  {
   "cell_type": "code",
   "execution_count": 0,
   "metadata": {
    "application/vnd.databricks.v1+cell": {
     "cellMetadata": {
      "byteLimit": 2048000,
      "rowLimit": 10000
     },
     "inputWidgets": {},
     "nuid": "e6d3ba11-d702-49c0-a33e-649d37c8d98e",
     "showTitle": false,
     "title": ""
    }
   },
   "outputs": [],
   "source": [
    "from time import sleep"
   ]
  },
  {
   "cell_type": "code",
   "execution_count": 0,
   "metadata": {
    "application/vnd.databricks.v1+cell": {
     "cellMetadata": {
      "byteLimit": 2048000,
      "rowLimit": 10000
     },
     "inputWidgets": {},
     "nuid": "26c52603-b598-4d41-bf1e-651379fc5676",
     "showTitle": false,
     "title": ""
    },
    "colab": {
     "base_uri": "https://localhost:8080/",
     "height": 122
    },
    "colab_type": "code",
    "executionInfo": {
     "elapsed": 23890,
     "status": "ok",
     "timestamp": 1573472904350,
     "user": {
      "displayName": "Amit Rappel",
      "photoUrl": "https://lh3.googleusercontent.com/a-/AAuE7mCpe5u5WeIPUl8KIs0q9y-EzHhNpEOmf41uRn8SmQ=s64",
      "userId": "16505003500853190417"
     },
     "user_tz": -120
    },
    "id": "c8xotYUsVTo8",
    "outputId": "204d2b74-cf94-4ec7-94c0-8daf9eda28c5"
   },
   "outputs": [],
   "source": [
    "fruits = ['Apple', 'Carambola', 'Plum', 'Orange', 'Passiflora', 'Lychee']\n",
    "for fruit in fruits:\n",
    "    first_letter = fruit[0]\n",
    "    last_letter = fruit[-1]\n",
    "    riddle = f'What fruit starts with {first_letter}, ends with {last_letter}, and has {len(fruit):2} letters?'\n",
    "    print(riddle, end='...\\t')\n",
    "    sleep(3)\n",
    "    print(fruit)"
   ]
  },
  {
   "cell_type": "markdown",
   "metadata": {
    "application/vnd.databricks.v1+cell": {
     "cellMetadata": {},
     "inputWidgets": {},
     "nuid": "c33cb1c4-34cb-4206-aab4-9f9c201b21b3",
     "showTitle": false,
     "title": ""
    }
   },
   "source": [
    "## Iterators and generators"
   ]
  },
  {
   "cell_type": "code",
   "execution_count": 0,
   "metadata": {
    "application/vnd.databricks.v1+cell": {
     "cellMetadata": {
      "byteLimit": 2048000,
      "rowLimit": 10000
     },
     "inputWidgets": {},
     "nuid": "7fcacb55-c787-4333-9f02-794bcd7f1fab",
     "showTitle": false,
     "title": ""
    },
    "colab": {
     "base_uri": "https://localhost:8080/",
     "height": 69
    },
    "colab_type": "code",
    "executionInfo": {
     "elapsed": 24743,
     "status": "ok",
     "timestamp": 1573472904348,
     "user": {
      "displayName": "Amit Rappel",
      "photoUrl": "https://lh3.googleusercontent.com/a-/AAuE7mCpe5u5WeIPUl8KIs0q9y-EzHhNpEOmf41uRn8SmQ=s64",
      "userId": "16505003500853190417"
     },
     "user_tz": -120
    },
    "id": "lKCdPd70VTo1",
    "outputId": "2e182508-8197-4bb3-93d2-29175fe9001a"
   },
   "outputs": [],
   "source": [
    "print(list(range(10)))\n",
    "print(list(range(3, 10)))\n",
    "print(list(range(3, 10 ,2)))"
   ]
  },
  {
   "cell_type": "markdown",
   "metadata": {
    "application/vnd.databricks.v1+cell": {
     "cellMetadata": {},
     "inputWidgets": {},
     "nuid": "18e80d9d-0200-4025-bd41-b29f2697371d",
     "showTitle": false,
     "title": ""
    },
    "colab_type": "text",
    "id": "Sz8XMVE_VTpD"
   },
   "source": [
    "# Functions"
   ]
  },
  {
   "cell_type": "code",
   "execution_count": 0,
   "metadata": {
    "application/vnd.databricks.v1+cell": {
     "cellMetadata": {
      "byteLimit": 2048000,
      "rowLimit": 10000
     },
     "inputWidgets": {},
     "nuid": "22d1be2b-f63e-423f-9ae6-2bdf554cf30e",
     "showTitle": false,
     "title": ""
    },
    "colab": {},
    "colab_type": "code",
    "id": "rjoEfR-tVTpE"
   },
   "outputs": [],
   "source": [
    "def is_prime(n):\n",
    "    if n==1:\n",
    "        return False\n",
    "    for d in range(2, int(n**0.5)+1):\n",
    "        if n%d==0:\n",
    "            return False\n",
    "    return True"
   ]
  },
  {
   "cell_type": "code",
   "execution_count": 0,
   "metadata": {
    "application/vnd.databricks.v1+cell": {
     "cellMetadata": {
      "byteLimit": 2048000,
      "rowLimit": 10000
     },
     "inputWidgets": {},
     "nuid": "feca7a44-154e-4032-8066-960aedd93b13",
     "showTitle": false,
     "title": ""
    },
    "colab": {
     "base_uri": "https://localhost:8080/",
     "height": 34
    },
    "colab_type": "code",
    "executionInfo": {
     "elapsed": 22952,
     "status": "ok",
     "timestamp": 1573472904356,
     "user": {
      "displayName": "Amit Rappel",
      "photoUrl": "https://lh3.googleusercontent.com/a-/AAuE7mCpe5u5WeIPUl8KIs0q9y-EzHhNpEOmf41uRn8SmQ=s64",
      "userId": "16505003500853190417"
     },
     "user_tz": -120
    },
    "id": "pLJpVwCQVTpI",
    "outputId": "e320d2f0-01b9-46a4-bb54-d703e0c55043"
   },
   "outputs": [],
   "source": [
    "is_prime(1001)"
   ]
  },
  {
   "cell_type": "markdown",
   "metadata": {
    "application/vnd.databricks.v1+cell": {
     "cellMetadata": {},
     "inputWidgets": {},
     "nuid": "8599c0a6-411d-410c-971e-4346b5fae02f",
     "showTitle": false,
     "title": ""
    },
    "colab_type": "text",
    "id": "wUzKkJWsVTpR"
   },
   "source": [
    "## Lambda functions"
   ]
  },
  {
   "cell_type": "markdown",
   "metadata": {
    "application/vnd.databricks.v1+cell": {
     "cellMetadata": {},
     "inputWidgets": {},
     "nuid": "d328d1a7-3228-482b-b06f-7cb4dda9208d",
     "showTitle": false,
     "title": ""
    },
    "colab_type": "text",
    "id": "07Yv2kOqVTpS"
   },
   "source": [
    "Lambda expression is a conveniency for writing ad-hoc functions, and it is characterized by a one-line syntax. We will demonstrate it using Python's buily-in [sorted](https://docs.python.org/3/library/functions.html#sorted) function."
   ]
  },
  {
   "cell_type": "code",
   "execution_count": 0,
   "metadata": {
    "application/vnd.databricks.v1+cell": {
     "cellMetadata": {
      "byteLimit": 2048000,
      "rowLimit": 10000
     },
     "inputWidgets": {},
     "nuid": "566001ed-6c1a-4cc0-bd00-4bbc4f7e701c",
     "showTitle": false,
     "title": ""
    },
    "colab": {
     "base_uri": "https://localhost:8080/",
     "height": 105
    },
    "colab_type": "code",
    "executionInfo": {
     "elapsed": 22460,
     "status": "ok",
     "timestamp": 1573472904608,
     "user": {
      "displayName": "Amit Rappel",
      "photoUrl": "https://lh3.googleusercontent.com/a-/AAuE7mCpe5u5WeIPUl8KIs0q9y-EzHhNpEOmf41uRn8SmQ=s64",
      "userId": "16505003500853190417"
     },
     "user_tz": -120
    },
    "id": "uN4GCOfOVTpT",
    "outputId": "546de6d6-c605-4623-ab78-59b8fa6b0ac5"
   },
   "outputs": [],
   "source": [
    "print(fruits)\n",
    "print(sorted(fruits))\n",
    "# print(sorted(fruits, key=len))\n",
    "# print(sorted(fruits, key=lambda word: (len(word), word)))\n",
    "# print(sorted(fruits, key=lambda word: word[1]))"
   ]
  },
  {
   "cell_type": "code",
   "execution_count": 0,
   "metadata": {
    "application/vnd.databricks.v1+cell": {
     "cellMetadata": {},
     "inputWidgets": {},
     "nuid": "0208c171-f2a8-4e05-8422-e521889240df",
     "showTitle": false,
     "title": ""
    },
    "colab": {
     "base_uri": "https://localhost:8080/",
     "height": 122
    },
    "colab_type": "code",
    "executionInfo": {
     "elapsed": 22306,
     "status": "ok",
     "timestamp": 1573472904609,
     "user": {
      "displayName": "Amit Rappel",
      "photoUrl": "https://lh3.googleusercontent.com/a-/AAuE7mCpe5u5WeIPUl8KIs0q9y-EzHhNpEOmf41uRn8SmQ=s64",
      "userId": "16505003500853190417"
     },
     "user_tz": -120
    },
    "id": "5TU-Rg4qrKK5",
    "outputId": "c2301332-6717-445b-8bcd-ba10dd15c1dc"
   },
   "outputs": [],
   "source": [
    "list(map(lambda fruit: (len(fruit), fruit), fruits))"
   ]
  },
  {
   "cell_type": "markdown",
   "metadata": {
    "application/vnd.databricks.v1+cell": {
     "cellMetadata": {},
     "inputWidgets": {},
     "nuid": "def76411-d024-483d-b31b-5447b0f2623d",
     "showTitle": false,
     "title": ""
    },
    "colab_type": "text",
    "id": "9xzMwCBAVTpW"
   },
   "source": [
    "## Chained operations"
   ]
  },
  {
   "cell_type": "markdown",
   "metadata": {
    "application/vnd.databricks.v1+cell": {
     "cellMetadata": {},
     "inputWidgets": {},
     "nuid": "c8071818-dee9-48b6-993d-1d4bc1d6b29f",
     "showTitle": false,
     "title": ""
    },
    "colab_type": "text",
    "id": "CC7y8QyaVTpX"
   },
   "source": [
    "The value returned by a function can be used immediately for executing another function. This is a very common practice in Python in general and in PySpark specifically."
   ]
  },
  {
   "cell_type": "code",
   "execution_count": 0,
   "metadata": {
    "application/vnd.databricks.v1+cell": {
     "cellMetadata": {
      "byteLimit": 2048000,
      "rowLimit": 10000
     },
     "inputWidgets": {},
     "nuid": "d5a208c1-ae3f-4cde-9573-952f29a01554",
     "showTitle": false,
     "title": ""
    },
    "colab": {
     "base_uri": "https://localhost:8080/",
     "height": 34
    },
    "colab_type": "code",
    "executionInfo": {
     "elapsed": 21794,
     "status": "ok",
     "timestamp": 1573472904610,
     "user": {
      "displayName": "Amit Rappel",
      "photoUrl": "https://lh3.googleusercontent.com/a-/AAuE7mCpe5u5WeIPUl8KIs0q9y-EzHhNpEOmf41uRn8SmQ=s64",
      "userId": "16505003500853190417"
     },
     "user_tz": -120
    },
    "id": "IpLgDO3vVTpX",
    "outputId": "f6f1025c-c9a7-4682-ba51-adab20254e91"
   },
   "outputs": [],
   "source": [
    "names = 'John Paul Ringo George'\n",
    "print(names.split().pop().lower())"
   ]
  }
 ],
 "metadata": {
  "application/vnd.databricks.v1+notebook": {
   "dashboards": [],
   "language": "python",
   "notebookMetadata": {
    "pythonIndentUnit": 4
   },
   "notebookName": "01 - Python fundamentals",
   "widgets": {}
  },
  "colab": {
   "collapsed_sections": [],
   "name": "PySpark Fundamentals.ipynb",
   "provenance": []
  },
  "kernelspec": {
   "display_name": "Python 3",
   "language": "python",
   "name": "python3"
  },
  "language_info": {
   "codemirror_mode": {
    "name": "ipython",
    "version": 3
   },
   "file_extension": ".py",
   "mimetype": "text/x-python",
   "name": "python",
   "nbconvert_exporter": "python",
   "pygments_lexer": "ipython3",
   "version": "3.6.5"
  },
  "name": "PySpark Fundamentals",
  "notebookId": 4289448050921006
 },
 "nbformat": 4,
 "nbformat_minor": 0
}
